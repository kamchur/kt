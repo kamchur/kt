{
 "cells": [
  {
   "cell_type": "markdown",
   "id": "aab398c8",
   "metadata": {},
   "source": [
    "#### 네이버 파파고번역"
   ]
  },
  {
   "cell_type": "code",
   "execution_count": null,
   "id": "b4d1d1cf",
   "metadata": {},
   "outputs": [],
   "source": [
    "''' 내가 해야할 것\n",
    "1. 어플리케이션 키 확인\n",
    "2. request > response > JSON(str)\n",
    "3. JSON(str) > list, dict > DataFrame\n",
    "'''"
   ]
  },
  {
   "cell_type": "code",
   "execution_count": 2,
   "id": "665f5552",
   "metadata": {},
   "outputs": [],
   "source": [
    "import pandas as pd\n",
    "import requests, json"
   ]
  },
  {
   "cell_type": "code",
   "execution_count": 16,
   "id": "a2e4de10",
   "metadata": {},
   "outputs": [],
   "source": [
    "def translate(text):\n",
    "    # text = '난 모든 AI로봇을 파괴하기 위해 AI를 공부중이다'\n",
    "    CLIENT_ID, CLIENT_SECRET = 'p1dw5t8tkTzct2dLbwmP', 'kIAz0SXshY'\n",
    "\n",
    "    # 요청 URL\n",
    "    url = 'https://openapi.naver.com/v1/papago/n2mt'\n",
    "    params = {\n",
    "        'source':'ko',\n",
    "        'target':'en',\n",
    "        'text':text,\n",
    "    }\n",
    "\n",
    "    headers = {\n",
    "        'Content-Type': 'application/json',\n",
    "        'X-Naver-Client-Id': CLIENT_ID,\n",
    "        'X-Naver-Client-Secret': CLIENT_SECRET,\n",
    "    }\n",
    "\n",
    "\n",
    "    response = requests.post(url, json.dumps(params), headers=headers)\n",
    "    return response.json()['message']['result']['translatedText']"
   ]
  },
  {
   "cell_type": "code",
   "execution_count": 18,
   "id": "4aff8ad3",
   "metadata": {},
   "outputs": [
    {
     "data": {
      "text/plain": [
       "\"The world's prettiest girl, Hong Gi Eun ♥, working hard at Stardy, hoo hoo hoo hoo hoo hoo\""
      ]
     },
     "execution_count": 18,
     "metadata": {},
     "output_type": "execute_result"
    }
   ],
   "source": [
    "# response.json()['message']['result']['translatedText']\n",
    "translate('세계 최고 예쁜이 홍기은♥, 열심히 스따디 중, 후히후헤호')"
   ]
  }
 ],
 "metadata": {
  "kernelspec": {
   "display_name": "Python 3",
   "language": "python",
   "name": "python3"
  },
  "language_info": {
   "codemirror_mode": {
    "name": "ipython",
    "version": 3
   },
   "file_extension": ".py",
   "mimetype": "text/x-python",
   "name": "python",
   "nbconvert_exporter": "python",
   "pygments_lexer": "ipython3",
   "version": "3.8.8"
  }
 },
 "nbformat": 4,
 "nbformat_minor": 5
}
