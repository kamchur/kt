{
 "cells": [
  {
   "cell_type": "code",
   "execution_count": 23,
   "id": "737e5bad",
   "metadata": {},
   "outputs": [],
   "source": [
    "import pandas as pd\n",
    "import requests, geohash2"
   ]
  },
  {
   "cell_type": "code",
   "execution_count": 24,
   "id": "8790ce57",
   "metadata": {},
   "outputs": [],
   "source": [
    "# url = 'https://apis.zigbang.com/v2/search?\\\n",
    "# leaseYn=N&q=r&serviceType=%EC%9B%90%EB%A3%B8'\n",
    "\n",
    "# decode\n",
    "url = 'https://apis.zigbang.com/v2/search?leaseYn=N&q=r&serviceType=원룸'\n",
    "target = '강남구 역삼동'\n",
    "url_target = f'https://apis.zigbang.com/v2/search?leaseYn=N&q={target}&serviceType=원룸'"
   ]
  },
  {
   "cell_type": "code",
   "execution_count": 25,
   "id": "a27edee6",
   "metadata": {},
   "outputs": [
    {
     "data": {
      "text/plain": [
       "<Response [200]>"
      ]
     },
     "execution_count": 25,
     "metadata": {},
     "output_type": "execute_result"
    }
   ],
   "source": [
    "response = requests.get(url_target)\n",
    "response"
   ]
  },
  {
   "cell_type": "code",
   "execution_count": 26,
   "id": "de9ad213",
   "metadata": {},
   "outputs": [
    {
     "data": {
      "text/plain": [
       "'{\"success\":true,\"code\":\"200\",\"items\":[{\"id\":3755,\"type\":\"address\",\"name\":\"역삼동\",\"hint\":\"\",\"description\":\"서울시 강남구 역삼동\",\"lat\":37.495365142822266,\"lng\":127.03306579589844,\"zoom\":5,\"polygon\":[],\"_score\":null,\"_source\":{\"name_length\":3,\"local1\":\"서울시\",\"local2\":\"강남구\",\"local3\":\"역삼동\",\"web_level\":15,\"web_lat\":37.495365142822266,\"web_lng\":127.03306579589844,\"app_level\":15,\"app_lat\":37.495365142822266,\"app_lng\":127.03306579589844,\"법정동코드\":\"1168010100\"},\"zoom_level\":{\"google\":15,\"daum\":4},\"zoom_level_v2\":{\"app\":5,\"web\":4}}],\"next\":null,\"limit\":0}'"
      ]
     },
     "execution_count": 26,
     "metadata": {},
     "output_type": "execute_result"
    }
   ],
   "source": [
    "response.text"
   ]
  },
  {
   "cell_type": "code",
   "execution_count": 27,
   "id": "3bec5162",
   "metadata": {},
   "outputs": [
    {
     "data": {
      "text/plain": [
       "{'success': True,\n",
       " 'code': '200',\n",
       " 'items': [{'id': 3755,\n",
       "   'type': 'address',\n",
       "   'name': '역삼동',\n",
       "   'hint': '',\n",
       "   'description': '서울시 강남구 역삼동',\n",
       "   'lat': 37.495365142822266,\n",
       "   'lng': 127.03306579589844,\n",
       "   'zoom': 5,\n",
       "   'polygon': [],\n",
       "   '_score': None,\n",
       "   '_source': {'name_length': 3,\n",
       "    'local1': '서울시',\n",
       "    'local2': '강남구',\n",
       "    'local3': '역삼동',\n",
       "    'web_level': 15,\n",
       "    'web_lat': 37.495365142822266,\n",
       "    'web_lng': 127.03306579589844,\n",
       "    'app_level': 15,\n",
       "    'app_lat': 37.495365142822266,\n",
       "    'app_lng': 127.03306579589844,\n",
       "    '법정동코드': '1168010100'},\n",
       "   'zoom_level': {'google': 15, 'daum': 4},\n",
       "   'zoom_level_v2': {'app': 5, 'web': 4}}],\n",
       " 'next': None,\n",
       " 'limit': 0}"
      ]
     },
     "execution_count": 27,
     "metadata": {},
     "output_type": "execute_result"
    }
   ],
   "source": [
    "response.json()"
   ]
  },
  {
   "cell_type": "code",
   "execution_count": 28,
   "id": "1ee8d809",
   "metadata": {},
   "outputs": [
    {
     "data": {
      "text/plain": [
       "[{'id': 3755,\n",
       "  'type': 'address',\n",
       "  'name': '역삼동',\n",
       "  'hint': '',\n",
       "  'description': '서울시 강남구 역삼동',\n",
       "  'lat': 37.495365142822266,\n",
       "  'lng': 127.03306579589844,\n",
       "  'zoom': 5,\n",
       "  'polygon': [],\n",
       "  '_score': None,\n",
       "  '_source': {'name_length': 3,\n",
       "   'local1': '서울시',\n",
       "   'local2': '강남구',\n",
       "   'local3': '역삼동',\n",
       "   'web_level': 15,\n",
       "   'web_lat': 37.495365142822266,\n",
       "   'web_lng': 127.03306579589844,\n",
       "   'app_level': 15,\n",
       "   'app_lat': 37.495365142822266,\n",
       "   'app_lng': 127.03306579589844,\n",
       "   '법정동코드': '1168010100'},\n",
       "  'zoom_level': {'google': 15, 'daum': 4},\n",
       "  'zoom_level_v2': {'app': 5, 'web': 4}}]"
      ]
     },
     "execution_count": 28,
     "metadata": {},
     "output_type": "execute_result"
    }
   ],
   "source": [
    "response.json()['items']"
   ]
  },
  {
   "cell_type": "code",
   "execution_count": 29,
   "id": "aef14b5e",
   "metadata": {},
   "outputs": [],
   "source": [
    "# data[0]"
   ]
  },
  {
   "cell_type": "code",
   "execution_count": 30,
   "id": "25855a98",
   "metadata": {},
   "outputs": [
    {
     "data": {
      "text/plain": [
       "'wydm6'"
      ]
     },
     "execution_count": 30,
     "metadata": {},
     "output_type": "execute_result"
    }
   ],
   "source": [
    "# geohash 위도, 경도 알아내기?\n",
    "data = response.json()['items'][0]\n",
    "latitude, longitude = data['lat'], data['lng']\n",
    "\n",
    "# `precision`은 영역을 뜻함 default=12\n",
    "# `precision`이 커질수록 영역이 작아짐 영역의 hashcode값\n",
    "# geohash값으로 변환\n",
    "geohash = geohash2.encode(latitude, longitude, precision=5)    \n",
    "geohash"
   ]
  },
  {
   "cell_type": "code",
   "execution_count": 31,
   "id": "c9ae1857",
   "metadata": {},
   "outputs": [],
   "source": [
    "# geohash로 매물 아이디 알아내기\n",
    "# 개발자도구 > items.deposit, 'items'가 있는 네트워크를 선택\n",
    "# 개행하는법, `\\` 넣음, `\\`(역슬래쉬) + 엔터, 역슬래쉬 뒤에 공백이 없어야함\n",
    "\n",
    "# https://apis.zigbang.com/v2/items?deposit_gteq=0&domain=zigbang&geohash=wydm8&needHasNoFiltered=true&rent_gteq=0&sales_type_in=전세|월세&service_type_eq=원룸\n",
    "url_items = f'https://apis.zigbang.com/v2/items?deposit_gteq=0&domain=zigbang\\\n",
    "&geohash={geohash}8&needHasNoFiltered=true&rent_gteq=0&sales_type_in=전세|월세&service_type_eq=원룸'"
   ]
  },
  {
   "cell_type": "code",
   "execution_count": 32,
   "id": "a3416070",
   "metadata": {},
   "outputs": [
    {
     "data": {
      "text/plain": [
       "<Response [200]>"
      ]
     },
     "execution_count": 32,
     "metadata": {},
     "output_type": "execute_result"
    }
   ],
   "source": [
    "# 데이터 요청 > 데이터 확인\n",
    "response = requests.get(url_items)\n",
    "response"
   ]
  },
  {
   "cell_type": "code",
   "execution_count": 33,
   "id": "d7e885a7",
   "metadata": {},
   "outputs": [
    {
     "data": {
      "text/plain": [
       "'{\"clusters\":[],\"items\":[{\"lat\":37.48564114153519,\"lng\":127.02997008688055,\"item_id\":32767020},{\"lat\":37.48571035922302,\"lng\":127.03050084070091,\"item_id\":32749547},{\"lat\":37.485710617196446,\"lng\":127.03048889820562,\"item_id\":32884801},{\"lat\":37.48572709546964,\"lng\":127.03045046392187,\"item_id\":32885109},{\"lat\":37.48620100704668,\"lng\":127.03048669343802,\"item_id\":32943094},{\"lat\":37.486793086671256,\"lng\":127.02757544616857,\"item_id\":32681135},{\"lat\":37.48678693016761,\"lng\":127.02697088810575,\"item_id\":32735700},{\"lat\":37.48710749966536,\"lng\":127.03458877274302,\"item_id\":32862927},{\"lat\":37.48856578213552,\"lng\":127.0304753925634,\"item_id\":32594069},{\"lat\":37.48855790838289,\"lng\":127.03109860487594,\"item_id\":32813242},{\"lat\":37.48853897095349,\"lng\":127.03110483941792,\"item_id\":32903510},{\"lat\":37.488231757762634,\"lng\":127.0317619913396,\"item_id\":32680835},{\"lat\":37.48823909368055,\"lng\":127.03171880779513,\"item_id\":32919755},{\"lat\":37.48907006033243,\"lng\":127.02963087511806,\"item_id\":32925586},{\"lat\":37.4897460734189,\"lng\":127.02956295872123,\"item_id\":32506762},{\"lat\":37.48926052177878,\"lng\":127.03018270962919,\"item_id\":32939637},{\"lat\":37.48937590676028,\"lng\":127.03035080548025,\"item_id\":32720200},{\"lat\":37.489395363347576,\"lng\":127.03038145640325,\"item_id\":32889200},{\"lat\":37.489380674246156,\"lng\":127.03034602016292,\"item_id\":32924967},{\"lat\":37.48985733929062,\"lng\":127.03034082791837,\"item_id\":32925003},{\"lat\":37.48986061576184,\"lng\":127.0309976659293,\"item_id\":32925021},{\"lat\":37.489956193880204,\"lng\":127.03132609153721,\"item_id\":32246269},{\"lat\":37.48946058441583,\"lng\":127.03067650871924,\"item_id\":32489241},{\"lat\":37.489977671991404,\"lng\":127.03067147873867,\"item_id\":32694102},{\"lat\":37.489964257252076,\"lng\":127.03129385112396,\"item_id\":32829682},{\"lat\":37.48995070950801,\"lng\":127.03132402608576,\"item_id\":32851897},{\"lat\":37.4894951045607,\"lng\":127.03066643680339,\"item_id\":32920592},{\"lat\":37.48995477898891,\"lng\":127.03065878208152,\"item_id\":32920656},{\"lat\":37.489647977634824,\"lng\":127.03018002047025,\"item_id\":32779070},{\"lat\":37.489648054564626,\"lng\":127.02954489607181,\"item_id\":32872847},{\"lat\":37.4901549288494,\"lng\":127.02957120745504,\"item_id\":32919408},{\"lat\":37.48964169113379,\"lng\":127.03019966743433,\"item_id\":32919416},{\"lat\":37.489678568953565,\"lng\":127.03016421934524,\"item_id\":32919877},{\"lat\":37.48966003085708,\"lng\":127.02955045625878,\"item_id\":32920098},{\"lat\":37.49015554510574,\"lng\":127.03018253040004,\"item_id\":32920372},{\"lat\":37.49012891264208,\"lng\":127.02953905652407,\"item_id\":32920843},{\"lat\":37.489661431755344,\"lng\":127.02955757452095,\"item_id\":32932297},{\"lat\":37.49015277345593,\"lng\":127.02988016825398,\"item_id\":32680484},{\"lat\":37.489641562994045,\"lng\":127.02988017590498,\"item_id\":32717278},{\"lat\":37.489661059805535,\"lng\":127.03052354860718,\"item_id\":32727681},{\"lat\":37.48965103964287,\"lng\":127.03049178941487,\"item_id\":32795315},{\"lat\":37.489669152635436,\"lng\":127.02988015124336,\"item_id\":32860854},{\"lat\":37.489644685725175,\"lng\":127.02988364657143,\"item_id\":32863775},{\"lat\":37.49016536015273,\"lng\":127.02989412745826,\"item_id\":32878292},{\"lat\":37.49015321858913,\"lng\":127.02987255547644,\"item_id\":32896513},{\"lat\":37.489640812685984,\"lng\":127.02987136723135,\"item_id\":32925605},{\"lat\":37.49016651350551,\"lng\":127.0299170070583,\"item_id\":32925632},{\"lat\":37.49030922586525,\"lng\":127.03469962925689,\"item_id\":32829062},{\"lat\":37.48994672183391,\"lng\":127.0325020357396,\"item_id\":32939594},{\"lat\":37.49042184196985,\"lng\":127.03092519784711,\"item_id\":32919404},{\"lat\":37.49044769591978,\"lng\":127.03032374969548,\"item_id\":32920553},{\"lat\":37.48993887008045,\"lng\":127.03031206096989,\"item_id\":32920733},{\"lat\":37.48992489863406,\"lng\":127.03033836923665,\"item_id\":32925871},{\"lat\":37.49017363789784,\"lng\":127.0300313105853,\"item_id\":32922001},{\"lat\":37.49082077343229,\"lng\":127.02929799813361,\"item_id\":32742029},{\"lat\":37.49036603375124,\"lng\":127.02989878948472,\"item_id\":32749319},{\"lat\":37.49032932573887,\"lng\":127.02929593034524,\"item_id\":32892690},{\"lat\":37.49081929413305,\"lng\":127.02931110748246,\"item_id\":32922597},{\"lat\":37.4903384001684,\"lng\":127.0293199791572,\"item_id\":32929178},{\"lat\":37.490357381157196,\"lng\":127.02992143915067,\"item_id\":32929193},{\"lat\":37.49083113534902,\"lng\":127.02928882141232,\"item_id\":32944245}],\"sections\":[{\"type\":\"vip\",\"title\":\"이 지역 안심중개사 VIP 방\",\"item_ids\":[]},{\"type\":\"premium_recommand\",\"title\":\"이 지역 안심중개사 추천 방\",\"item_ids\":[32862927,32884801]},{\"type\":\"premium_normal\",\"title\":\"이 지역 안심중개사 일반 \",\"item_ids\":[32680835,32919755]},{\"type\":\"recommand\",\"title\":\"이 지역 최신 방\",\"item_ids\":[32594069,32929193,32922597,32813242,32829682,32920098,32925871,32851897,32925021,32863775,32925632,32920656,32720200,32920372,32506762,32943094,32735700,32489241,32742029,32919408,32920592,32878292,32922001,32929178,32944245,32919877,32925003,32795315,32924967,32939637,32932297,32925586,32779070,32829062,32892690,32925605,32939594,32767020,32727681,32920843,32920553,32681135,32920733,32860854,32749547,32919404,32246269,32694102,32919416,32680484,32885109,32749319,32717278,32896513,32889200,32872847,32903510]},{\"type\":\"normal\",\"title\":\"이 지역 일반 방\",\"item_ids\":[]}],\"subways\":[],\"hasNoFiltered\":false}'"
      ]
     },
     "execution_count": 33,
     "metadata": {},
     "output_type": "execute_result"
    }
   ],
   "source": [
    "# 데이터 확인\n",
    "response.text"
   ]
  },
  {
   "cell_type": "code",
   "execution_count": 34,
   "id": "37e8ad7a",
   "metadata": {},
   "outputs": [
    {
     "data": {
      "text/plain": [
       "{'clusters': [],\n",
       " 'items': [{'lat': 37.48564114153519,\n",
       "   'lng': 127.02997008688055,\n",
       "   'item_id': 32767020},\n",
       "  {'lat': 37.48571035922302, 'lng': 127.03050084070091, 'item_id': 32749547},\n",
       "  {'lat': 37.485710617196446, 'lng': 127.03048889820562, 'item_id': 32884801},\n",
       "  {'lat': 37.48572709546964, 'lng': 127.03045046392187, 'item_id': 32885109},\n",
       "  {'lat': 37.48620100704668, 'lng': 127.03048669343802, 'item_id': 32943094},\n",
       "  {'lat': 37.486793086671256, 'lng': 127.02757544616857, 'item_id': 32681135},\n",
       "  {'lat': 37.48678693016761, 'lng': 127.02697088810575, 'item_id': 32735700},\n",
       "  {'lat': 37.48710749966536, 'lng': 127.03458877274302, 'item_id': 32862927},\n",
       "  {'lat': 37.48856578213552, 'lng': 127.0304753925634, 'item_id': 32594069},\n",
       "  {'lat': 37.48855790838289, 'lng': 127.03109860487594, 'item_id': 32813242},\n",
       "  {'lat': 37.48853897095349, 'lng': 127.03110483941792, 'item_id': 32903510},\n",
       "  {'lat': 37.488231757762634, 'lng': 127.0317619913396, 'item_id': 32680835},\n",
       "  {'lat': 37.48823909368055, 'lng': 127.03171880779513, 'item_id': 32919755},\n",
       "  {'lat': 37.48907006033243, 'lng': 127.02963087511806, 'item_id': 32925586},\n",
       "  {'lat': 37.4897460734189, 'lng': 127.02956295872123, 'item_id': 32506762},\n",
       "  {'lat': 37.48926052177878, 'lng': 127.03018270962919, 'item_id': 32939637},\n",
       "  {'lat': 37.48937590676028, 'lng': 127.03035080548025, 'item_id': 32720200},\n",
       "  {'lat': 37.489395363347576, 'lng': 127.03038145640325, 'item_id': 32889200},\n",
       "  {'lat': 37.489380674246156, 'lng': 127.03034602016292, 'item_id': 32924967},\n",
       "  {'lat': 37.48985733929062, 'lng': 127.03034082791837, 'item_id': 32925003},\n",
       "  {'lat': 37.48986061576184, 'lng': 127.0309976659293, 'item_id': 32925021},\n",
       "  {'lat': 37.489956193880204, 'lng': 127.03132609153721, 'item_id': 32246269},\n",
       "  {'lat': 37.48946058441583, 'lng': 127.03067650871924, 'item_id': 32489241},\n",
       "  {'lat': 37.489977671991404, 'lng': 127.03067147873867, 'item_id': 32694102},\n",
       "  {'lat': 37.489964257252076, 'lng': 127.03129385112396, 'item_id': 32829682},\n",
       "  {'lat': 37.48995070950801, 'lng': 127.03132402608576, 'item_id': 32851897},\n",
       "  {'lat': 37.4894951045607, 'lng': 127.03066643680339, 'item_id': 32920592},\n",
       "  {'lat': 37.48995477898891, 'lng': 127.03065878208152, 'item_id': 32920656},\n",
       "  {'lat': 37.489647977634824, 'lng': 127.03018002047025, 'item_id': 32779070},\n",
       "  {'lat': 37.489648054564626, 'lng': 127.02954489607181, 'item_id': 32872847},\n",
       "  {'lat': 37.4901549288494, 'lng': 127.02957120745504, 'item_id': 32919408},\n",
       "  {'lat': 37.48964169113379, 'lng': 127.03019966743433, 'item_id': 32919416},\n",
       "  {'lat': 37.489678568953565, 'lng': 127.03016421934524, 'item_id': 32919877},\n",
       "  {'lat': 37.48966003085708, 'lng': 127.02955045625878, 'item_id': 32920098},\n",
       "  {'lat': 37.49015554510574, 'lng': 127.03018253040004, 'item_id': 32920372},\n",
       "  {'lat': 37.49012891264208, 'lng': 127.02953905652407, 'item_id': 32920843},\n",
       "  {'lat': 37.489661431755344, 'lng': 127.02955757452095, 'item_id': 32932297},\n",
       "  {'lat': 37.49015277345593, 'lng': 127.02988016825398, 'item_id': 32680484},\n",
       "  {'lat': 37.489641562994045, 'lng': 127.02988017590498, 'item_id': 32717278},\n",
       "  {'lat': 37.489661059805535, 'lng': 127.03052354860718, 'item_id': 32727681},\n",
       "  {'lat': 37.48965103964287, 'lng': 127.03049178941487, 'item_id': 32795315},\n",
       "  {'lat': 37.489669152635436, 'lng': 127.02988015124336, 'item_id': 32860854},\n",
       "  {'lat': 37.489644685725175, 'lng': 127.02988364657143, 'item_id': 32863775},\n",
       "  {'lat': 37.49016536015273, 'lng': 127.02989412745826, 'item_id': 32878292},\n",
       "  {'lat': 37.49015321858913, 'lng': 127.02987255547644, 'item_id': 32896513},\n",
       "  {'lat': 37.489640812685984, 'lng': 127.02987136723135, 'item_id': 32925605},\n",
       "  {'lat': 37.49016651350551, 'lng': 127.0299170070583, 'item_id': 32925632},\n",
       "  {'lat': 37.49030922586525, 'lng': 127.03469962925689, 'item_id': 32829062},\n",
       "  {'lat': 37.48994672183391, 'lng': 127.0325020357396, 'item_id': 32939594},\n",
       "  {'lat': 37.49042184196985, 'lng': 127.03092519784711, 'item_id': 32919404},\n",
       "  {'lat': 37.49044769591978, 'lng': 127.03032374969548, 'item_id': 32920553},\n",
       "  {'lat': 37.48993887008045, 'lng': 127.03031206096989, 'item_id': 32920733},\n",
       "  {'lat': 37.48992489863406, 'lng': 127.03033836923665, 'item_id': 32925871},\n",
       "  {'lat': 37.49017363789784, 'lng': 127.0300313105853, 'item_id': 32922001},\n",
       "  {'lat': 37.49082077343229, 'lng': 127.02929799813361, 'item_id': 32742029},\n",
       "  {'lat': 37.49036603375124, 'lng': 127.02989878948472, 'item_id': 32749319},\n",
       "  {'lat': 37.49032932573887, 'lng': 127.02929593034524, 'item_id': 32892690},\n",
       "  {'lat': 37.49081929413305, 'lng': 127.02931110748246, 'item_id': 32922597},\n",
       "  {'lat': 37.4903384001684, 'lng': 127.0293199791572, 'item_id': 32929178},\n",
       "  {'lat': 37.490357381157196, 'lng': 127.02992143915067, 'item_id': 32929193},\n",
       "  {'lat': 37.49083113534902, 'lng': 127.02928882141232, 'item_id': 32944245}],\n",
       " 'sections': [{'type': 'vip', 'title': '이 지역 안심중개사 VIP 방', 'item_ids': []},\n",
       "  {'type': 'premium_recommand',\n",
       "   'title': '이 지역 안심중개사 추천 방',\n",
       "   'item_ids': [32862927, 32884801]},\n",
       "  {'type': 'premium_normal',\n",
       "   'title': '이 지역 안심중개사 일반 ',\n",
       "   'item_ids': [32680835, 32919755]},\n",
       "  {'type': 'recommand',\n",
       "   'title': '이 지역 최신 방',\n",
       "   'item_ids': [32594069,\n",
       "    32929193,\n",
       "    32922597,\n",
       "    32813242,\n",
       "    32829682,\n",
       "    32920098,\n",
       "    32925871,\n",
       "    32851897,\n",
       "    32925021,\n",
       "    32863775,\n",
       "    32925632,\n",
       "    32920656,\n",
       "    32720200,\n",
       "    32920372,\n",
       "    32506762,\n",
       "    32943094,\n",
       "    32735700,\n",
       "    32489241,\n",
       "    32742029,\n",
       "    32919408,\n",
       "    32920592,\n",
       "    32878292,\n",
       "    32922001,\n",
       "    32929178,\n",
       "    32944245,\n",
       "    32919877,\n",
       "    32925003,\n",
       "    32795315,\n",
       "    32924967,\n",
       "    32939637,\n",
       "    32932297,\n",
       "    32925586,\n",
       "    32779070,\n",
       "    32829062,\n",
       "    32892690,\n",
       "    32925605,\n",
       "    32939594,\n",
       "    32767020,\n",
       "    32727681,\n",
       "    32920843,\n",
       "    32920553,\n",
       "    32681135,\n",
       "    32920733,\n",
       "    32860854,\n",
       "    32749547,\n",
       "    32919404,\n",
       "    32246269,\n",
       "    32694102,\n",
       "    32919416,\n",
       "    32680484,\n",
       "    32885109,\n",
       "    32749319,\n",
       "    32717278,\n",
       "    32896513,\n",
       "    32889200,\n",
       "    32872847,\n",
       "    32903510]},\n",
       "  {'type': 'normal', 'title': '이 지역 일반 방', 'item_ids': []}],\n",
       " 'subways': [],\n",
       " 'hasNoFiltered': False}"
      ]
     },
     "execution_count": 34,
     "metadata": {},
     "output_type": "execute_result"
    }
   ],
   "source": [
    "response.json()"
   ]
  },
  {
   "cell_type": "code",
   "execution_count": 37,
   "id": "24b2b893",
   "metadata": {},
   "outputs": [
    {
     "data": {
      "text/plain": [
       "(61,\n",
       " [{'lat': 37.48564114153519, 'lng': 127.02997008688055, 'item_id': 32767020},\n",
       "  {'lat': 37.48571035922302, 'lng': 127.03050084070091, 'item_id': 32749547}])"
      ]
     },
     "execution_count": 37,
     "metadata": {},
     "output_type": "execute_result"
    }
   ],
   "source": [
    "items = response.json()['items']\n",
    "len(items), items[:2]"
   ]
  },
  {
   "cell_type": "code",
   "execution_count": 38,
   "id": "0081caef",
   "metadata": {
    "scrolled": true
   },
   "outputs": [
    {
     "data": {
      "text/plain": [
       "[32767020, 32749547, 32884801, 32885109, 32943094]"
      ]
     },
     "execution_count": 38,
     "metadata": {},
     "output_type": "execute_result"
    }
   ],
   "source": [
    "# 매물 아이디 알아내기\n",
    "ids = [item['item_id'] for item in items]\n",
    "ids[:5]"
   ]
  },
  {
   "cell_type": "code",
   "execution_count": 42,
   "id": "1b41723c",
   "metadata": {},
   "outputs": [
    {
     "data": {
      "text/plain": [
       "<Response [200]>"
      ]
     },
     "execution_count": 42,
     "metadata": {},
     "output_type": "execute_result"
    }
   ],
   "source": [
    "# 매물 아이디로 매물 정보 알아내기\n",
    "# 개발자도구 > Name목차의 list에서 Payload확인\n",
    "# 데이터를 가져올때 1000개이상이면 끊기기(가져오지 못함) 때문에 그이상이면, 900개씩 가져오기\n",
    "\n",
    "# 헤더에 해당하는 url을 가져옴\n",
    "id_url = 'https://apis.zigbang.com/v2/items/list'\n",
    "\n",
    "# ***POST방식으로 요청할때는 payload를 가져와야함 ***\n",
    "# get 방식일때는 'URL'에 정보가 들어가지만 POST는 없으니까 !\n",
    "params = {\n",
    "    'domain':'zigbang',\n",
    "    'withCoalition':'true',\n",
    "    'item_ids':ids[:900]\n",
    "}\n",
    "\n",
    "# header가 필요없음\n",
    "# 한글이 없기 때문에 `json.dumps()`로 인코딩할 필요없음\n",
    "response = requests.post(id_url, params=params)\n",
    "response"
   ]
  },
  {
   "cell_type": "code",
   "execution_count": 43,
   "id": "1b46c8d8",
   "metadata": {},
   "outputs": [
    {
     "data": {
      "text/plain": [
       "'{\"items\":[{\"section_type\":null,\"item_id\":32767020,\"images_thumbnail\":\"https://ic.zigbang.com/ic/items/32767020/1.jpg\",\"sales_type\":\"월세\",\"sales_title\":\"월세\",\"deposit\":20000,\"rent\":90,\"size_m2\":60.12,\"공급면적\":{\"m2\":60.12,\"p\":\"18.2\"},\"전용면적\":{\"m2\":59.61,\"p\":\"18\"},\"계약면적\":null,\"room_type_title\":null,\"floor\":'"
      ]
     },
     "execution_count": 43,
     "metadata": {},
     "output_type": "execute_result"
    }
   ],
   "source": [
    "response.text[:300]"
   ]
  },
  {
   "cell_type": "code",
   "execution_count": 46,
   "id": "41d67d23",
   "metadata": {},
   "outputs": [
    {
     "data": {
      "text/plain": [
       "[{'section_type': None,\n",
       "  'item_id': 32767020,\n",
       "  'images_thumbnail': 'https://ic.zigbang.com/ic/items/32767020/1.jpg',\n",
       "  'sales_type': '월세',\n",
       "  'sales_title': '월세',\n",
       "  'deposit': 20000,\n",
       "  'rent': 90,\n",
       "  'size_m2': 60.12,\n",
       "  '공급면적': {'m2': 60.12, 'p': '18.2'},\n",
       "  '전용면적': {'m2': 59.61, 'p': '18'},\n",
       "  '계약면적': None,\n",
       "  'room_type_title': None,\n",
       "  'floor': '1',\n",
       "  'floor_string': '1',\n",
       "  'building_floor': '3',\n",
       "  'title': '🐤드디어 이 집 나왔습니다 !!!!･ᴗ･🐤',\n",
       "  'is_first_movein': None,\n",
       "  'room_type': '04',\n",
       "  'address': '서초구 서초동',\n",
       "  'random_location': {'lat': 37.48514224987996, 'lng': 127.03058832333029},\n",
       "  'is_zzim': False,\n",
       "  'status': True,\n",
       "  'service_type': '빌라',\n",
       "  'tags': [],\n",
       "  'address1': '서울시 서초구 서초동',\n",
       "  'address2': None,\n",
       "  'address3': None,\n",
       "  'manage_cost': '5',\n",
       "  'reg_date': '2022-08-03T17:05:14+09:00',\n",
       "  'is_new': False},\n",
       " {'section_type': None,\n",
       "  'item_id': 32749547,\n",
       "  'images_thumbnail': 'https://ic.zigbang.com/ic/items/32749547/1.jpg',\n",
       "  'sales_type': '월세',\n",
       "  'sales_title': '월세',\n",
       "  'deposit': 1500,\n",
       "  'rent': 150,\n",
       "  'size_m2': 44.37,\n",
       "  '공급면적': {'m2': 44.37, 'p': '13.4'},\n",
       "  '전용면적': {'m2': 35.49, 'p': '10.7'},\n",
       "  '계약면적': None,\n",
       "  'room_type_title': None,\n",
       "  'floor': '1',\n",
       "  'floor_string': '1',\n",
       "  'building_floor': '3',\n",
       "  'title': '🔥양재역 도보5분 투룸🔥반려O🔥풀옵션🔥',\n",
       "  'is_first_movein': None,\n",
       "  'room_type': '04',\n",
       "  'address': '서초구 서초동',\n",
       "  'random_location': {'lat': 37.48570033035844, 'lng': 127.03111635738613},\n",
       "  'is_zzim': False,\n",
       "  'status': True,\n",
       "  'service_type': '빌라',\n",
       "  'tags': [],\n",
       "  'address1': '서울시 서초구 서초동',\n",
       "  'address2': None,\n",
       "  'address3': None,\n",
       "  'manage_cost': '0',\n",
       "  'reg_date': '2022-07-25T13:54:12+09:00',\n",
       "  'is_new': False}]"
      ]
     },
     "execution_count": 46,
     "metadata": {},
     "output_type": "execute_result"
    }
   ],
   "source": [
    "items = response.json()['items']\n",
    "items[:2]"
   ]
  },
  {
   "cell_type": "code",
   "execution_count": 47,
   "id": "6cae0af8",
   "metadata": {},
   "outputs": [
    {
     "data": {
      "text/html": [
       "<div>\n",
       "<style scoped>\n",
       "    .dataframe tbody tr th:only-of-type {\n",
       "        vertical-align: middle;\n",
       "    }\n",
       "\n",
       "    .dataframe tbody tr th {\n",
       "        vertical-align: top;\n",
       "    }\n",
       "\n",
       "    .dataframe thead th {\n",
       "        text-align: right;\n",
       "    }\n",
       "</style>\n",
       "<table border=\"1\" class=\"dataframe\">\n",
       "  <thead>\n",
       "    <tr style=\"text-align: right;\">\n",
       "      <th></th>\n",
       "      <th>section_type</th>\n",
       "      <th>item_id</th>\n",
       "      <th>images_thumbnail</th>\n",
       "      <th>sales_type</th>\n",
       "      <th>sales_title</th>\n",
       "      <th>deposit</th>\n",
       "      <th>rent</th>\n",
       "      <th>size_m2</th>\n",
       "      <th>공급면적</th>\n",
       "      <th>전용면적</th>\n",
       "      <th>...</th>\n",
       "      <th>is_zzim</th>\n",
       "      <th>status</th>\n",
       "      <th>service_type</th>\n",
       "      <th>tags</th>\n",
       "      <th>address1</th>\n",
       "      <th>address2</th>\n",
       "      <th>address3</th>\n",
       "      <th>manage_cost</th>\n",
       "      <th>reg_date</th>\n",
       "      <th>is_new</th>\n",
       "    </tr>\n",
       "  </thead>\n",
       "  <tbody>\n",
       "    <tr>\n",
       "      <th>59</th>\n",
       "      <td>None</td>\n",
       "      <td>32929193</td>\n",
       "      <td>https://ic.zigbang.com/ic/items/32929193/1.jpg</td>\n",
       "      <td>전세</td>\n",
       "      <td>전세</td>\n",
       "      <td>19000</td>\n",
       "      <td>0</td>\n",
       "      <td>43.77</td>\n",
       "      <td>{'m2': 43.77, 'p': '13.2'}</td>\n",
       "      <td>{'m2': 23.5, 'p': '7.1'}</td>\n",
       "      <td>...</td>\n",
       "      <td>False</td>\n",
       "      <td>True</td>\n",
       "      <td>오피스텔</td>\n",
       "      <td>[추천]</td>\n",
       "      <td>서울시 서초구 서초동</td>\n",
       "      <td>None</td>\n",
       "      <td>None</td>\n",
       "      <td>10</td>\n",
       "      <td>2022-08-08T16:21:09+09:00</td>\n",
       "      <td>True</td>\n",
       "    </tr>\n",
       "    <tr>\n",
       "      <th>60</th>\n",
       "      <td>None</td>\n",
       "      <td>32944245</td>\n",
       "      <td>https://ic.zigbang.com/ic/items/32944245/1.jpg</td>\n",
       "      <td>전세</td>\n",
       "      <td>전세</td>\n",
       "      <td>19000</td>\n",
       "      <td>0</td>\n",
       "      <td>41.98</td>\n",
       "      <td>{'m2': 41.98, 'p': '12.7'}</td>\n",
       "      <td>{'m2': 23.8, 'p': '7.2'}</td>\n",
       "      <td>...</td>\n",
       "      <td>False</td>\n",
       "      <td>True</td>\n",
       "      <td>오피스텔</td>\n",
       "      <td>[]</td>\n",
       "      <td>서울시 서초구 서초동</td>\n",
       "      <td>None</td>\n",
       "      <td>None</td>\n",
       "      <td>8.5</td>\n",
       "      <td>2022-08-09T17:49:18+09:00</td>\n",
       "      <td>True</td>\n",
       "    </tr>\n",
       "  </tbody>\n",
       "</table>\n",
       "<p>2 rows × 30 columns</p>\n",
       "</div>"
      ],
      "text/plain": [
       "   section_type   item_id                                images_thumbnail  \\\n",
       "59         None  32929193  https://ic.zigbang.com/ic/items/32929193/1.jpg   \n",
       "60         None  32944245  https://ic.zigbang.com/ic/items/32944245/1.jpg   \n",
       "\n",
       "   sales_type sales_title  deposit  rent  size_m2                        공급면적  \\\n",
       "59         전세          전세    19000     0    43.77  {'m2': 43.77, 'p': '13.2'}   \n",
       "60         전세          전세    19000     0    41.98  {'m2': 41.98, 'p': '12.7'}   \n",
       "\n",
       "                        전용면적  ... is_zzim status service_type  tags  \\\n",
       "59  {'m2': 23.5, 'p': '7.1'}  ...   False   True         오피스텔  [추천]   \n",
       "60  {'m2': 23.8, 'p': '7.2'}  ...   False   True         오피스텔    []   \n",
       "\n",
       "       address1 address2 address3 manage_cost                   reg_date  \\\n",
       "59  서울시 서초구 서초동     None     None          10  2022-08-08T16:21:09+09:00   \n",
       "60  서울시 서초구 서초동     None     None         8.5  2022-08-09T17:49:18+09:00   \n",
       "\n",
       "   is_new  \n",
       "59   True  \n",
       "60   True  \n",
       "\n",
       "[2 rows x 30 columns]"
      ]
     },
     "execution_count": 47,
     "metadata": {},
     "output_type": "execute_result"
    }
   ],
   "source": [
    "df = pd.DataFrame(items)\n",
    "df.tail(2)"
   ]
  },
  {
   "cell_type": "code",
   "execution_count": 49,
   "id": "2abcd465",
   "metadata": {},
   "outputs": [
    {
     "data": {
      "text/html": [
       "<div>\n",
       "<style scoped>\n",
       "    .dataframe tbody tr th:only-of-type {\n",
       "        vertical-align: middle;\n",
       "    }\n",
       "\n",
       "    .dataframe tbody tr th {\n",
       "        vertical-align: top;\n",
       "    }\n",
       "\n",
       "    .dataframe thead th {\n",
       "        text-align: right;\n",
       "    }\n",
       "</style>\n",
       "<table border=\"1\" class=\"dataframe\">\n",
       "  <thead>\n",
       "    <tr style=\"text-align: right;\">\n",
       "      <th></th>\n",
       "      <th>item_id</th>\n",
       "      <th>sales_type</th>\n",
       "      <th>deposit</th>\n",
       "      <th>rent</th>\n",
       "      <th>size_m2</th>\n",
       "      <th>address1</th>\n",
       "      <th>manage_cost</th>\n",
       "    </tr>\n",
       "  </thead>\n",
       "  <tbody>\n",
       "    <tr>\n",
       "      <th>0</th>\n",
       "      <td>32767020</td>\n",
       "      <td>월세</td>\n",
       "      <td>20000</td>\n",
       "      <td>90</td>\n",
       "      <td>60.12</td>\n",
       "      <td>서울시 서초구 서초동</td>\n",
       "      <td>5</td>\n",
       "    </tr>\n",
       "    <tr>\n",
       "      <th>1</th>\n",
       "      <td>32749547</td>\n",
       "      <td>월세</td>\n",
       "      <td>1500</td>\n",
       "      <td>150</td>\n",
       "      <td>44.37</td>\n",
       "      <td>서울시 서초구 서초동</td>\n",
       "      <td>0</td>\n",
       "    </tr>\n",
       "    <tr>\n",
       "      <th>2</th>\n",
       "      <td>32884801</td>\n",
       "      <td>월세</td>\n",
       "      <td>3000</td>\n",
       "      <td>80</td>\n",
       "      <td>42.98</td>\n",
       "      <td>서울시 서초구 서초동</td>\n",
       "      <td>7</td>\n",
       "    </tr>\n",
       "    <tr>\n",
       "      <th>3</th>\n",
       "      <td>32885109</td>\n",
       "      <td>월세</td>\n",
       "      <td>2000</td>\n",
       "      <td>150</td>\n",
       "      <td>59.50</td>\n",
       "      <td>서울시 서초구 서초동</td>\n",
       "      <td>7</td>\n",
       "    </tr>\n",
       "    <tr>\n",
       "      <th>4</th>\n",
       "      <td>32943094</td>\n",
       "      <td>월세</td>\n",
       "      <td>1500</td>\n",
       "      <td>150</td>\n",
       "      <td>44.37</td>\n",
       "      <td>서울시 서초구 서초동</td>\n",
       "      <td>0</td>\n",
       "    </tr>\n",
       "    <tr>\n",
       "      <th>...</th>\n",
       "      <td>...</td>\n",
       "      <td>...</td>\n",
       "      <td>...</td>\n",
       "      <td>...</td>\n",
       "      <td>...</td>\n",
       "      <td>...</td>\n",
       "      <td>...</td>\n",
       "    </tr>\n",
       "    <tr>\n",
       "      <th>56</th>\n",
       "      <td>32892690</td>\n",
       "      <td>전세</td>\n",
       "      <td>19500</td>\n",
       "      <td>0</td>\n",
       "      <td>41.98</td>\n",
       "      <td>서울시 서초구 서초동</td>\n",
       "      <td>8</td>\n",
       "    </tr>\n",
       "    <tr>\n",
       "      <th>57</th>\n",
       "      <td>32922597</td>\n",
       "      <td>월세</td>\n",
       "      <td>1000</td>\n",
       "      <td>75</td>\n",
       "      <td>44.42</td>\n",
       "      <td>서울시 서초구 서초동</td>\n",
       "      <td>7</td>\n",
       "    </tr>\n",
       "    <tr>\n",
       "      <th>58</th>\n",
       "      <td>32929178</td>\n",
       "      <td>전세</td>\n",
       "      <td>19000</td>\n",
       "      <td>0</td>\n",
       "      <td>42.98</td>\n",
       "      <td>서울시 서초구 서초동</td>\n",
       "      <td>10</td>\n",
       "    </tr>\n",
       "    <tr>\n",
       "      <th>59</th>\n",
       "      <td>32929193</td>\n",
       "      <td>전세</td>\n",
       "      <td>19000</td>\n",
       "      <td>0</td>\n",
       "      <td>43.77</td>\n",
       "      <td>서울시 서초구 서초동</td>\n",
       "      <td>10</td>\n",
       "    </tr>\n",
       "    <tr>\n",
       "      <th>60</th>\n",
       "      <td>32944245</td>\n",
       "      <td>전세</td>\n",
       "      <td>19000</td>\n",
       "      <td>0</td>\n",
       "      <td>41.98</td>\n",
       "      <td>서울시 서초구 서초동</td>\n",
       "      <td>8.5</td>\n",
       "    </tr>\n",
       "  </tbody>\n",
       "</table>\n",
       "<p>61 rows × 7 columns</p>\n",
       "</div>"
      ],
      "text/plain": [
       "     item_id sales_type  deposit  rent  size_m2     address1 manage_cost\n",
       "0   32767020         월세    20000    90    60.12  서울시 서초구 서초동           5\n",
       "1   32749547         월세     1500   150    44.37  서울시 서초구 서초동           0\n",
       "2   32884801         월세     3000    80    42.98  서울시 서초구 서초동           7\n",
       "3   32885109         월세     2000   150    59.50  서울시 서초구 서초동           7\n",
       "4   32943094         월세     1500   150    44.37  서울시 서초구 서초동           0\n",
       "..       ...        ...      ...   ...      ...          ...         ...\n",
       "56  32892690         전세    19500     0    41.98  서울시 서초구 서초동           8\n",
       "57  32922597         월세     1000    75    44.42  서울시 서초구 서초동           7\n",
       "58  32929178         전세    19000     0    42.98  서울시 서초구 서초동          10\n",
       "59  32929193         전세    19000     0    43.77  서울시 서초구 서초동          10\n",
       "60  32944245         전세    19000     0    41.98  서울시 서초구 서초동         8.5\n",
       "\n",
       "[61 rows x 7 columns]"
      ]
     },
     "execution_count": 49,
     "metadata": {},
     "output_type": "execute_result"
    }
   ],
   "source": [
    "# 필요한 컬럼만 설정하고 싶은경우 \n",
    "columns = ['item_id', 'sales_type', 'deposit', 'rent', 'size_m2', 'address1', 'manage_cost']\n",
    "pd.DataFrame(items)[columns]"
   ]
  }
 ],
 "metadata": {
  "kernelspec": {
   "display_name": "Python 3",
   "language": "python",
   "name": "python3"
  },
  "language_info": {
   "codemirror_mode": {
    "name": "ipython",
    "version": 3
   },
   "file_extension": ".py",
   "mimetype": "text/x-python",
   "name": "python",
   "nbconvert_exporter": "python",
   "pygments_lexer": "ipython3",
   "version": "3.8.8"
  }
 },
 "nbformat": 4,
 "nbformat_minor": 5
}
